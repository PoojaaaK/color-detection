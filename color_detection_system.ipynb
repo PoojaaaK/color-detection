{
  "nbformat": 4,
  "nbformat_minor": 0,
  "metadata": {
    "colab": {
      "provenance": [],
      "authorship_tag": "ABX9TyOKwCDCXjxcpjLVS2eERckE",
      "include_colab_link": true
    },
    "kernelspec": {
      "name": "python3",
      "display_name": "Python 3"
    },
    "language_info": {
      "name": "python"
    }
  },
  "cells": [
    {
      "cell_type": "markdown",
      "metadata": {
        "id": "view-in-github",
        "colab_type": "text"
      },
      "source": [
        "<a href=\"https://colab.research.google.com/github/PoojaaaK/color-detection/blob/main/color_detection_system.ipynb\" target=\"_parent\"><img src=\"https://colab.research.google.com/assets/colab-badge.svg\" alt=\"Open In Colab\"/></a>"
      ]
    },
    {
      "cell_type": "code",
      "execution_count": 2,
      "metadata": {
        "colab": {
          "base_uri": "https://localhost:8080/",
          "height": 287
        },
        "id": "XfxCbuliyN_3",
        "outputId": "bf8bbd4b-6daf-4104-c726-c72e8e8f18a6"
      },
      "outputs": [
        {
          "output_type": "stream",
          "name": "stdout",
          "text": [
            "Requirement already satisfied: opencv-python in /usr/local/lib/python3.10/dist-packages (4.7.0.72)\n",
            "Requirement already satisfied: numpy in /usr/local/lib/python3.10/dist-packages (1.22.4)\n",
            "Requirement already satisfied: pandas in /usr/local/lib/python3.10/dist-packages (1.5.3)\n",
            "Requirement already satisfied: python-dateutil>=2.8.1 in /usr/local/lib/python3.10/dist-packages (from pandas) (2.8.2)\n",
            "Requirement already satisfied: pytz>=2020.1 in /usr/local/lib/python3.10/dist-packages (from pandas) (2022.7.1)\n",
            "Requirement already satisfied: six>=1.5 in /usr/local/lib/python3.10/dist-packages (from python-dateutil>=2.8.1->pandas) (1.16.0)\n"
          ]
        },
        {
          "output_type": "stream",
          "name": "stderr",
          "text": [
            "usage: ipykernel_launcher.py [-h] -i IMAGE\n",
            "ipykernel_launcher.py: error: the following arguments are required: -i/--image\n"
          ]
        },
        {
          "output_type": "error",
          "ename": "SystemExit",
          "evalue": "ignored",
          "traceback": [
            "An exception has occurred, use %tb to see the full traceback.\n",
            "\u001b[0;31mSystemExit\u001b[0m\u001b[0;31m:\u001b[0m 2\n"
          ]
        },
        {
          "output_type": "stream",
          "name": "stderr",
          "text": [
            "/usr/local/lib/python3.10/dist-packages/IPython/core/interactiveshell.py:3561: UserWarning: To exit: use 'exit', 'quit', or Ctrl-D.\n",
            "  warn(\"To exit: use 'exit', 'quit', or Ctrl-D.\", stacklevel=1)\n"
          ]
        }
      ],
      "source": [
        "!pip install opencv-python numpy pandas\n",
        "import argparse\n",
        "\n",
        "ap = argparse.ArgumentParser()\n",
        "ap.add_argument('-i', '--image', required=True, help=\"Image Path\")\n",
        "args = vars(ap.parse_args())\n",
        "img_path = args['image']\n",
        "#Reading image with opencv\n",
        "img = cv2.imread(img_path)\n",
        "\n",
        "#Reading csv file with pandas and giving names to each column\n",
        "index=[\"color\",\"color_name\",\"hex\",\"R\",\"G\",\"B\"]\n",
        "csv = pd.read_csv('colors.csv', names=index, header=None)\n",
        "\n",
        "cv2.namedWindow('image')\n",
        "cv2.setMouseCallback('image',draw_function)"
      ]
    },
    {
      "cell_type": "code",
      "source": [
        "def draw_function(event, x,y,flags,param):\n",
        "    if event == cv2.EVENT_LBUTTONDBLCLK:\n",
        "        global b,g,r,xpos,ypos, clicked\n",
        "        clicked = True\n",
        "        xpos = x\n",
        "        ypos = y\n",
        "        b,g,r = img[y,x]\n",
        "        b = int(b)\n",
        "        g = int(g)\n",
        "        r = int(r)\n",
        "\n",
        "def getColorName(R,G,B):\n",
        "    minimum = 10000\n",
        "    for i in range(len(csv)):\n",
        "        d = abs(R- int(csv.loc[i,\"R\"])) + abs(G- int(csv.loc[i,\"G\"]))+ abs(B- int(csv.loc[i,\"B\"]))\n",
        "        if(d<=minimum):\n",
        "            minimum = d\n",
        "            cname = csv.loc[i,\"color_name\"]\n",
        "    return cname\n",
        "\n",
        "while(1):\n",
        "    cv2.imshow(\"image\",img)\n",
        "    if (clicked):\n",
        "        #cv2.rectangle(image, startpoint, endpoint, color, thickness) -1 thickness fills rectangle entirely\n",
        "        cv2.rectangle(img,(20,20), (750,60), (b,g,r), -1)\n",
        "\n",
        "        #Creating text string to display ( Color name and RGB values )\n",
        "        text = getColorName(r,g,b) + ' R='+ str(r) + ' G='+ str(g) + ' B='+ str(b)\n",
        "\n",
        "        #cv2.putText(img,text,start,font(0-7), fontScale, color, thickness, lineType, (optional bottomLeft bool) )\n",
        "        cv2.putText(img, text,(50,50),2,0.8,(255,255,255),2,cv2.LINE_AA)\n",
        "  #For very light colours we will display text in black colour\n",
        "        if(r+g+b>=600):\n",
        "            cv2.putText(img, text,(50,50),2,0.8,(0,0,0),2,cv2.LINE_AA)\n",
        "\n",
        "        clicked=False\n",
        "\n",
        "    #Break the loop when user hits 'esc' key\n",
        "    if cv2.waitKey(20) & 0xFF ==27:\n",
        "        break\n",
        "\n",
        "cv2.destroyAllWindows()\n",
        "\n",
        "python color_detection.py -i <add your image path here>"
      ],
      "metadata": {
        "id": "NQWWM6DLyeGE"
      },
      "execution_count": null,
      "outputs": []
    }
  ]
}